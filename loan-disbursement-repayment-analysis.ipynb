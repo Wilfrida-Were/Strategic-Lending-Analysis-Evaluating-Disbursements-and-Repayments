{
 "cells": [
  {
   "cell_type": "markdown",
   "id": "563ba260",
   "metadata": {
    "papermill": {
     "duration": 0.008119,
     "end_time": "2025-04-18T11:37:50.376290",
     "exception": false,
     "start_time": "2025-04-18T11:37:50.368171",
     "status": "completed"
    },
    "tags": []
   },
   "source": [
    "## Loan Disbursement & Repayment Analysis"
   ]
  },
  {
   "cell_type": "markdown",
   "id": "0a46b0c3",
   "metadata": {
    "papermill": {
     "duration": 0.007926,
     "end_time": "2025-04-18T11:37:50.391286",
     "exception": false,
     "start_time": "2025-04-18T11:37:50.383360",
     "status": "completed"
    },
    "tags": []
   },
   "source": [
    "## Problem Statement\n",
    "\n",
    "A company aims to expand into the unbanked and under-banked market by acquiring a strategic lending business. The target company has provided data on their loan disbursements and repayments. The goal is to analyze this data to evaluate the product’s performance, identify trends, and provide actionable recommendations. \n",
    "\n",
    "Key objectives include assessing loan disbursement and repayment behavior, forecasting 3-month profit/loss, and recommending strategies to optimize profitability and manage credit risk.\n",
    "\n",
    "### Comprehensive Analysis of Loan Disbursements and Repayments\n",
    "\n",
    "### 1. **Disbursement Data Analysis**\n",
    "\n",
    "#### 1.1 **Total Loan Amount and Loan Fee Analysis**\n",
    "- **Objective**: Calculate the total loan amount disbursed across all customers and analyze the associated loan fees.\n",
    "- **Key Metrics**: \n",
    "  - Total loan amount\n",
    "  - Average loan fee\n",
    "\n",
    "#### 1.2 **Loan Amount by Customer**\n",
    "- **Objective**: Analyze the distribution of loan amounts per customer to understand the variation and identify trends.\n",
    "- **Key Metrics**:\n",
    "  - Loan amount per customer\n",
    "\n",
    "#### 1.3 **Loan Amount by Tenure**\n",
    "- **Objective**: Examine how loan amounts vary across different tenures (e.g., 6 months, 12 months).\n",
    "- **Key Metrics**:\n",
    "  - Loan amount by tenure\n",
    "\n",
    "### 2. **Repayment Data Analysis**\n",
    "\n",
    "#### 2.1 **Repayment Trends Over Time**\n",
    "- **Objective**: Analyze the repayment trends over time to identify any seasonal fluctuations or patterns in repayment behavior.\n",
    "- **Key Metrics**:\n",
    "  - Repayment amount by month/year\n",
    "  - Changes in repayment behavior over time\n",
    "\n",
    "#### 2.2 **Repayment by Customer**\n",
    "- **Objective**: Understand the average repayment per customer and assess repayment behavior.\n",
    "- **Key Metrics**:\n",
    "  - Average repayment amount per customer\n",
    "\n",
    "### 3. **Holistic Analysis (Joining Disbursements and Repayments Tables)**\n",
    "\n",
    "#### 3.1 **Repayment Performance**\n",
    "- **Objective**: Analyze customers who have higher loan amounts and compare them to their repayment behavior (on-time vs. late).\n",
    "- **Key Metrics**:\n",
    "  - Repayment rate by loan amount\n",
    "  - Repayment behavior by customer\n",
    "\n",
    "#### 3.2 **Product Performance Evaluation**\n",
    "- **Objective**: Assess the overall success of the loan product by comparing disbursed amounts to repaid amounts.\n",
    "- **Key Metrics**:\n",
    "  - Total disbursed vs total repaid across all customers\n",
    "  - Repayment success rate\n",
    "\n",
    "#### 3.3 **Loan Repayment Ratio**\n",
    "- **Objective**: Understand how much of the loan disbursed has been repaid by calculating the repayment ratio.\n",
    "- **Key Metrics**:\n",
    "  - Repayment ratio (total repaid / total disbursed)\n",
    "\n",
    "#### 3.4 **Customer Segment Analysis**\n",
    "- **Objective**: Categorize customers based on their loan amounts and repayment behavior to identify high-risk segments.\n",
    "- **Key Metrics**:\n",
    "  - Segmentation by loan amount and repayment performance\n",
    "\n",
    "#### 3.5 **Risk Assessment**\n",
    "- **Objective**: Identify customers who are at risk of default and propose mitigation strategies.\n",
    "- **Key Metrics**:\n",
    "  - High-risk customers based on repayment patterns\n",
    "  - Recommended credit risk strategies\n",
    "\n",
    "### 4. **Predictive Modelling**\n",
    "- **Objective**: Develop a 3-month profit/loss forecast.\n",
    "\n",
    "### 5. **Actionable Recommendations**\n",
    "\n",
    "#### 5.1 **Loan Product Performance**\n",
    "- **Recommendation**: Provide strategies to improve repayment rates and product profitability.\n",
    "\n",
    "#### 5.2 **Credit Risk Mitigation**\n",
    "- **Recommendation**: Suggest strategies for mitigating credit risk based on repayment behavior.\n",
    "\n",
    "#### 5.3 **Customer Segmentation and Targeted Strategies**\n",
    "- **Recommendation**: Propose tailored strategies for different customer segments (e.g., high-risk customers, large-loan customers).\n",
    "\n",
    "#### 5.4 **Optimization of Loan Fees**\n",
    "- **Recommendation**: Analyze and recommend adjustments to loan fees to improve profitability without discouraging repayments.\n",
    "\n",
    "### 6. **Conclusion**\n",
    "- **Summary**: Summarize the insights and key findings from the analysis and present actionable recommendations to the leadership team.\n"
   ]
  },
  {
   "cell_type": "code",
   "execution_count": 1,
   "id": "6f6eadbc",
   "metadata": {
    "execution": {
     "iopub.execute_input": "2025-04-18T11:37:50.405575Z",
     "iopub.status.busy": "2025-04-18T11:37:50.405274Z",
     "iopub.status.idle": "2025-04-18T11:37:54.062409Z",
     "shell.execute_reply": "2025-04-18T11:37:54.061461Z"
    },
    "papermill": {
     "duration": 3.666411,
     "end_time": "2025-04-18T11:37:54.064171",
     "exception": false,
     "start_time": "2025-04-18T11:37:50.397760",
     "status": "completed"
    },
    "tags": []
   },
   "outputs": [],
   "source": [
    "# Import libraries\n",
    "import pandas as pd\n",
    "import matplotlib.pyplot as plt\n",
    "from matplotlib.ticker import FuncFormatter\n",
    "import seaborn as sns\n",
    "import sqlite3  # for using SQL commands"
   ]
  },
  {
   "cell_type": "code",
   "execution_count": 2,
   "id": "3c8798bd",
   "metadata": {
    "execution": {
     "iopub.execute_input": "2025-04-18T11:37:54.082800Z",
     "iopub.status.busy": "2025-04-18T11:37:54.082279Z",
     "iopub.status.idle": "2025-04-18T11:38:02.787954Z",
     "shell.execute_reply": "2025-04-18T11:38:02.786988Z"
    },
    "papermill": {
     "duration": 8.71823,
     "end_time": "2025-04-18T11:38:02.789695",
     "exception": false,
     "start_time": "2025-04-18T11:37:54.071465",
     "status": "completed"
    },
    "tags": []
   },
   "outputs": [
    {
     "name": "stdout",
     "output_type": "stream",
     "text": [
      "                                         customer_id  disb_date   tenure  \\\n",
      "0  91810ca1aa097db79f050f38e9946fa5482b4e28c925e2... 2024-03-19  14 days   \n",
      "1  42ca06e6fe1ff9803e82a5c20184671b54090e488f78d6... 2024-03-19   7 days   \n",
      "2  b23747f53af805e18ad16a4ef235b6642d88f9134644ff... 2024-03-19   7 days   \n",
      "3  1bd32f9b083fc6ddfffd65730fbfa66654fa76a19b0b0e... 2024-03-19  14 days   \n",
      "4  e7cfbaa97ba7702c52df5f1dddba54bd26923ebad945f1... 2024-03-19   7 days   \n",
      "\n",
      "                        account_num  loan_amount  loan_fee  \n",
      "0  3O66YENWELA6E2H1R9YLX0LDZNOMNHD4          360      43.2  \n",
      "1  6XWHXKKR1W2HIA8I0V75PZFZBXUUGSVO           70       7.0  \n",
      "2  OCGK3RJZ91A999VXD4VB3LATPSME3J5L         3500     350.0  \n",
      "3  9X3Q682DOR7927IMMJLFHBGP0RP7YF5C         3500     420.0  \n",
      "4  AQH88NNF8S76MGJL4J4ULEAE18O0KLWH          120      12.0  \n",
      "\n",
      "                         date_time  \\\n",
      "0  27-JUN-24 07.16.36.000000000 AM   \n",
      "1  27-JUN-24 05.26.50.000000000 PM   \n",
      "2  27-JUN-24 06.45.40.000000000 PM   \n",
      "3  27-JUN-24 01.24.57.000000000 PM   \n",
      "4  27-JUN-24 01.31.44.000000000 PM   \n",
      "\n",
      "                                         customer_id   amount  rep_month  \\\n",
      "0  683131338d401fda38410a808797b7706bc3e364d0fe77...   500.65     202406   \n",
      "1  56a41251185bd205961556399289804607ccc660392837...  2833.33     202406   \n",
      "2  000e57e83f161e4ba6458b3e32c00815405c5a005e652b...   143.98     202406   \n",
      "3  f3606d5ac9a89e0251a60d7183a09bc742eba2e36882af...  1000.00     202406   \n",
      "4  f3606d5ac9a89e0251a60d7183a09bc742eba2e36882af...   801.00     202406   \n",
      "\n",
      "  repayment_type  \n",
      "0      Automatic  \n",
      "1      Automatic  \n",
      "2      Automatic  \n",
      "3      Automatic  \n",
      "4         Manual  \n"
     ]
    }
   ],
   "source": [
    "# Load the dataset\n",
    "df1 = pd.read_excel('/kaggle/input/lending-data/Disbursement Data.xlsx')\n",
    "df2 = pd.read_excel('/kaggle/input/lending-data/Repayment Data.xlsx')\n",
    "\n",
    "disbursement = df1.copy() # make a copy of the original data\n",
    "repayment = df2.copy()\n",
    "\n",
    "print(disbursement.head())\n",
    "print()\n",
    "print(repayment.head())"
   ]
  },
  {
   "cell_type": "code",
   "execution_count": 3,
   "id": "103db285",
   "metadata": {
    "execution": {
     "iopub.execute_input": "2025-04-18T11:38:02.804876Z",
     "iopub.status.busy": "2025-04-18T11:38:02.804415Z",
     "iopub.status.idle": "2025-04-18T11:38:02.859639Z",
     "shell.execute_reply": "2025-04-18T11:38:02.858474Z"
    },
    "papermill": {
     "duration": 0.064618,
     "end_time": "2025-04-18T11:38:02.861394",
     "exception": false,
     "start_time": "2025-04-18T11:38:02.796776",
     "status": "completed"
    },
    "tags": []
   },
   "outputs": [
    {
     "name": "stdout",
     "output_type": "stream",
     "text": [
      "                                         customer_id  new_customer_id\n",
      "0  91810ca1aa097db79f050f38e9946fa5482b4e28c925e2...                1\n",
      "1  42ca06e6fe1ff9803e82a5c20184671b54090e488f78d6...                2\n",
      "2  b23747f53af805e18ad16a4ef235b6642d88f9134644ff...                3\n",
      "3  1bd32f9b083fc6ddfffd65730fbfa66654fa76a19b0b0e...                4\n",
      "4  e7cfbaa97ba7702c52df5f1dddba54bd26923ebad945f1...                5\n",
      "\n",
      "                                         customer_id  new_customer_id\n",
      "0  683131338d401fda38410a808797b7706bc3e364d0fe77...             1999\n",
      "1  56a41251185bd205961556399289804607ccc660392837...             2780\n",
      "2  000e57e83f161e4ba6458b3e32c00815405c5a005e652b...             2723\n",
      "3  f3606d5ac9a89e0251a60d7183a09bc742eba2e36882af...              500\n",
      "4  f3606d5ac9a89e0251a60d7183a09bc742eba2e36882af...              500\n"
     ]
    }
   ],
   "source": [
    "# Combine customer IDs from both disbursement and repayment datasets to get all unique customer IDs\n",
    "unique_customer_ids = pd.concat([disbursement['customer_id'], repayment['customer_id']]).unique()\n",
    "\n",
    "# Create a mapping of customer_id to incremental ids (from 1 to the number of unique customers)\n",
    "customer_id_mapping = {customer: index + 1 for index, customer in enumerate(unique_customer_ids)}\n",
    "\n",
    "# Map the customer_id column to the new incremental customer_id\n",
    "disbursement['new_customer_id'] = disbursement['customer_id'].map(customer_id_mapping)\n",
    "repayment['new_customer_id'] = repayment['customer_id'].map(customer_id_mapping)\n",
    "\n",
    "# Show the first few rows of each DataFrame to confirm the new column\n",
    "print(disbursement[['customer_id', 'new_customer_id']].head())\n",
    "print()\n",
    "print(repayment[['customer_id', 'new_customer_id']].head())"
   ]
  },
  {
   "cell_type": "code",
   "execution_count": 4,
   "id": "002b01b6",
   "metadata": {
    "execution": {
     "iopub.execute_input": "2025-04-18T11:38:02.877139Z",
     "iopub.status.busy": "2025-04-18T11:38:02.876158Z",
     "iopub.status.idle": "2025-04-18T11:38:02.927693Z",
     "shell.execute_reply": "2025-04-18T11:38:02.926161Z"
    },
    "papermill": {
     "duration": 0.060758,
     "end_time": "2025-04-18T11:38:02.929350",
     "exception": false,
     "start_time": "2025-04-18T11:38:02.868592",
     "status": "completed"
    },
    "tags": []
   },
   "outputs": [
    {
     "name": "stdout",
     "output_type": "stream",
     "text": [
      "<class 'pandas.core.frame.DataFrame'>\n",
      "RangeIndex: 26585 entries, 0 to 26584\n",
      "Data columns (total 7 columns):\n",
      " #   Column           Non-Null Count  Dtype         \n",
      "---  ------           --------------  -----         \n",
      " 0   customer_id      26585 non-null  object        \n",
      " 1   disb_date        26585 non-null  datetime64[ns]\n",
      " 2   tenure           26585 non-null  object        \n",
      " 3   account_num      26585 non-null  object        \n",
      " 4   loan_amount      26585 non-null  int64         \n",
      " 5   loan_fee         26585 non-null  float64       \n",
      " 6   new_customer_id  26585 non-null  int64         \n",
      "dtypes: datetime64[ns](1), float64(1), int64(2), object(3)\n",
      "memory usage: 1.4+ MB\n"
     ]
    }
   ],
   "source": [
    "# Investigate Disbursement Data\n",
    "disbursement.info() # No missing data"
   ]
  },
  {
   "cell_type": "code",
   "execution_count": 5,
   "id": "63ae7496",
   "metadata": {
    "execution": {
     "iopub.execute_input": "2025-04-18T11:38:02.944721Z",
     "iopub.status.busy": "2025-04-18T11:38:02.944057Z",
     "iopub.status.idle": "2025-04-18T11:38:03.129963Z",
     "shell.execute_reply": "2025-04-18T11:38:03.129077Z"
    },
    "papermill": {
     "duration": 0.195519,
     "end_time": "2025-04-18T11:38:03.131839",
     "exception": false,
     "start_time": "2025-04-18T11:38:02.936320",
     "status": "completed"
    },
    "tags": []
   },
   "outputs": [
    {
     "data": {
      "text/html": [
       "<div>\n",
       "<style scoped>\n",
       "    .dataframe tbody tr th:only-of-type {\n",
       "        vertical-align: middle;\n",
       "    }\n",
       "\n",
       "    .dataframe tbody tr th {\n",
       "        vertical-align: top;\n",
       "    }\n",
       "\n",
       "    .dataframe thead th {\n",
       "        text-align: right;\n",
       "    }\n",
       "</style>\n",
       "<table border=\"1\" class=\"dataframe\">\n",
       "  <thead>\n",
       "    <tr style=\"text-align: right;\">\n",
       "      <th></th>\n",
       "      <th>customer_id</th>\n",
       "      <th>disb_date</th>\n",
       "      <th>tenure</th>\n",
       "      <th>account_num</th>\n",
       "      <th>loan_amount</th>\n",
       "      <th>loan_fee</th>\n",
       "      <th>new_customer_id</th>\n",
       "      <th>tenure_days</th>\n",
       "    </tr>\n",
       "  </thead>\n",
       "  <tbody>\n",
       "    <tr>\n",
       "      <th>0</th>\n",
       "      <td>91810ca1aa097db79f050f38e9946fa5482b4e28c925e2...</td>\n",
       "      <td>2024-03-19</td>\n",
       "      <td>14 days</td>\n",
       "      <td>3O66YENWELA6E2H1R9YLX0LDZNOMNHD4</td>\n",
       "      <td>360</td>\n",
       "      <td>43.2</td>\n",
       "      <td>1</td>\n",
       "      <td>14</td>\n",
       "    </tr>\n",
       "    <tr>\n",
       "      <th>1</th>\n",
       "      <td>42ca06e6fe1ff9803e82a5c20184671b54090e488f78d6...</td>\n",
       "      <td>2024-03-19</td>\n",
       "      <td>7 days</td>\n",
       "      <td>6XWHXKKR1W2HIA8I0V75PZFZBXUUGSVO</td>\n",
       "      <td>70</td>\n",
       "      <td>7.0</td>\n",
       "      <td>2</td>\n",
       "      <td>7</td>\n",
       "    </tr>\n",
       "    <tr>\n",
       "      <th>2</th>\n",
       "      <td>b23747f53af805e18ad16a4ef235b6642d88f9134644ff...</td>\n",
       "      <td>2024-03-19</td>\n",
       "      <td>7 days</td>\n",
       "      <td>OCGK3RJZ91A999VXD4VB3LATPSME3J5L</td>\n",
       "      <td>3500</td>\n",
       "      <td>350.0</td>\n",
       "      <td>3</td>\n",
       "      <td>7</td>\n",
       "    </tr>\n",
       "    <tr>\n",
       "      <th>3</th>\n",
       "      <td>1bd32f9b083fc6ddfffd65730fbfa66654fa76a19b0b0e...</td>\n",
       "      <td>2024-03-19</td>\n",
       "      <td>14 days</td>\n",
       "      <td>9X3Q682DOR7927IMMJLFHBGP0RP7YF5C</td>\n",
       "      <td>3500</td>\n",
       "      <td>420.0</td>\n",
       "      <td>4</td>\n",
       "      <td>14</td>\n",
       "    </tr>\n",
       "    <tr>\n",
       "      <th>4</th>\n",
       "      <td>e7cfbaa97ba7702c52df5f1dddba54bd26923ebad945f1...</td>\n",
       "      <td>2024-03-19</td>\n",
       "      <td>7 days</td>\n",
       "      <td>AQH88NNF8S76MGJL4J4ULEAE18O0KLWH</td>\n",
       "      <td>120</td>\n",
       "      <td>12.0</td>\n",
       "      <td>5</td>\n",
       "      <td>7</td>\n",
       "    </tr>\n",
       "  </tbody>\n",
       "</table>\n",
       "</div>"
      ],
      "text/plain": [
       "                                         customer_id  disb_date   tenure  \\\n",
       "0  91810ca1aa097db79f050f38e9946fa5482b4e28c925e2... 2024-03-19  14 days   \n",
       "1  42ca06e6fe1ff9803e82a5c20184671b54090e488f78d6... 2024-03-19   7 days   \n",
       "2  b23747f53af805e18ad16a4ef235b6642d88f9134644ff... 2024-03-19   7 days   \n",
       "3  1bd32f9b083fc6ddfffd65730fbfa66654fa76a19b0b0e... 2024-03-19  14 days   \n",
       "4  e7cfbaa97ba7702c52df5f1dddba54bd26923ebad945f1... 2024-03-19   7 days   \n",
       "\n",
       "                        account_num  loan_amount  loan_fee  new_customer_id  \\\n",
       "0  3O66YENWELA6E2H1R9YLX0LDZNOMNHD4          360      43.2                1   \n",
       "1  6XWHXKKR1W2HIA8I0V75PZFZBXUUGSVO           70       7.0                2   \n",
       "2  OCGK3RJZ91A999VXD4VB3LATPSME3J5L         3500     350.0                3   \n",
       "3  9X3Q682DOR7927IMMJLFHBGP0RP7YF5C         3500     420.0                4   \n",
       "4  AQH88NNF8S76MGJL4J4ULEAE18O0KLWH          120      12.0                5   \n",
       "\n",
       "   tenure_days  \n",
       "0           14  \n",
       "1            7  \n",
       "2            7  \n",
       "3           14  \n",
       "4            7  "
      ]
     },
     "execution_count": 5,
     "metadata": {},
     "output_type": "execute_result"
    }
   ],
   "source": [
    "# Extract the number of days from the 'tenure' column using regex\n",
    "disbursement['tenure_days'] = disbursement['tenure'].str.extract('(\\d+)').astype(int)\n",
    "\n",
    "# disbursement[['tenure', 'tenure_days']].head()\n",
    "disbursement.head()"
   ]
  },
  {
   "cell_type": "code",
   "execution_count": 6,
   "id": "9e70e749",
   "metadata": {
    "execution": {
     "iopub.execute_input": "2025-04-18T11:38:03.148544Z",
     "iopub.status.busy": "2025-04-18T11:38:03.147488Z",
     "iopub.status.idle": "2025-04-18T11:38:03.172856Z",
     "shell.execute_reply": "2025-04-18T11:38:03.171598Z"
    },
    "papermill": {
     "duration": 0.035006,
     "end_time": "2025-04-18T11:38:03.174326",
     "exception": false,
     "start_time": "2025-04-18T11:38:03.139320",
     "status": "completed"
    },
    "tags": []
   },
   "outputs": [
    {
     "name": "stdout",
     "output_type": "stream",
     "text": [
      "<class 'pandas.core.frame.DataFrame'>\n",
      "RangeIndex: 66016 entries, 0 to 66015\n",
      "Data columns (total 6 columns):\n",
      " #   Column           Non-Null Count  Dtype  \n",
      "---  ------           --------------  -----  \n",
      " 0   date_time        66016 non-null  object \n",
      " 1   customer_id      66016 non-null  object \n",
      " 2   amount           66016 non-null  float64\n",
      " 3   rep_month        66016 non-null  int64  \n",
      " 4   repayment_type   66016 non-null  object \n",
      " 5   new_customer_id  66016 non-null  int64  \n",
      "dtypes: float64(1), int64(2), object(3)\n",
      "memory usage: 3.0+ MB\n"
     ]
    }
   ],
   "source": [
    "# Investigate Repayment Data\n",
    "repayment.info() # No missing Data"
   ]
  },
  {
   "cell_type": "code",
   "execution_count": 7,
   "id": "b8f57ac9",
   "metadata": {
    "execution": {
     "iopub.execute_input": "2025-04-18T11:38:03.190552Z",
     "iopub.status.busy": "2025-04-18T11:38:03.189745Z",
     "iopub.status.idle": "2025-04-18T11:38:03.468023Z",
     "shell.execute_reply": "2025-04-18T11:38:03.466796Z"
    },
    "papermill": {
     "duration": 0.288114,
     "end_time": "2025-04-18T11:38:03.469667",
     "exception": false,
     "start_time": "2025-04-18T11:38:03.181553",
     "status": "completed"
    },
    "tags": []
   },
   "outputs": [
    {
     "name": "stdout",
     "output_type": "stream",
     "text": [
      "<class 'pandas.core.frame.DataFrame'>\n",
      "RangeIndex: 66016 entries, 0 to 66015\n",
      "Data columns (total 6 columns):\n",
      " #   Column           Non-Null Count  Dtype         \n",
      "---  ------           --------------  -----         \n",
      " 0   date_time        66016 non-null  datetime64[ns]\n",
      " 1   customer_id      66016 non-null  object        \n",
      " 2   amount           66016 non-null  float64       \n",
      " 3   rep_month        66016 non-null  int64         \n",
      " 4   repayment_type   66016 non-null  object        \n",
      " 5   new_customer_id  66016 non-null  int64         \n",
      "dtypes: datetime64[ns](1), float64(1), int64(2), object(2)\n",
      "memory usage: 3.0+ MB\n"
     ]
    }
   ],
   "source": [
    "# Convert date_time column from object to datetime64[ns]\n",
    "repayment['date_time'] = pd.to_datetime(repayment['date_time'], format='%d-%b-%y %I.%M.%S.%f %p', errors='coerce')\n",
    "repayment.info()"
   ]
  },
  {
   "cell_type": "code",
   "execution_count": 8,
   "id": "9fee054a",
   "metadata": {
    "execution": {
     "iopub.execute_input": "2025-04-18T11:38:03.485471Z",
     "iopub.status.busy": "2025-04-18T11:38:03.485069Z",
     "iopub.status.idle": "2025-04-18T11:38:03.580677Z",
     "shell.execute_reply": "2025-04-18T11:38:03.579384Z"
    },
    "papermill": {
     "duration": 0.105125,
     "end_time": "2025-04-18T11:38:03.582066",
     "exception": false,
     "start_time": "2025-04-18T11:38:03.476941",
     "status": "completed"
    },
    "tags": []
   },
   "outputs": [
    {
     "name": "stdout",
     "output_type": "stream",
     "text": [
      "<class 'pandas.core.frame.DataFrame'>\n",
      "RangeIndex: 66016 entries, 0 to 66015\n",
      "Data columns (total 8 columns):\n",
      " #   Column           Non-Null Count  Dtype         \n",
      "---  ------           --------------  -----         \n",
      " 0   date_time        66016 non-null  datetime64[ns]\n",
      " 1   customer_id      66016 non-null  object        \n",
      " 2   amount           66016 non-null  float64       \n",
      " 3   rep_month        66016 non-null  object        \n",
      " 4   repayment_type   66016 non-null  object        \n",
      " 5   new_customer_id  66016 non-null  int64         \n",
      " 6   year             66016 non-null  int64         \n",
      " 7   month            66016 non-null  int64         \n",
      "dtypes: datetime64[ns](1), float64(1), int64(3), object(3)\n",
      "memory usage: 4.0+ MB\n",
      "None\n",
      "\n"
     ]
    },
    {
     "data": {
      "text/html": [
       "<div>\n",
       "<style scoped>\n",
       "    .dataframe tbody tr th:only-of-type {\n",
       "        vertical-align: middle;\n",
       "    }\n",
       "\n",
       "    .dataframe tbody tr th {\n",
       "        vertical-align: top;\n",
       "    }\n",
       "\n",
       "    .dataframe thead th {\n",
       "        text-align: right;\n",
       "    }\n",
       "</style>\n",
       "<table border=\"1\" class=\"dataframe\">\n",
       "  <thead>\n",
       "    <tr style=\"text-align: right;\">\n",
       "      <th></th>\n",
       "      <th>date_time</th>\n",
       "      <th>customer_id</th>\n",
       "      <th>amount</th>\n",
       "      <th>rep_month</th>\n",
       "      <th>repayment_type</th>\n",
       "      <th>new_customer_id</th>\n",
       "      <th>year</th>\n",
       "      <th>month</th>\n",
       "    </tr>\n",
       "  </thead>\n",
       "  <tbody>\n",
       "    <tr>\n",
       "      <th>0</th>\n",
       "      <td>2024-06-27 07:16:36</td>\n",
       "      <td>683131338d401fda38410a808797b7706bc3e364d0fe77...</td>\n",
       "      <td>500.65</td>\n",
       "      <td>202406</td>\n",
       "      <td>Automatic</td>\n",
       "      <td>1999</td>\n",
       "      <td>2024</td>\n",
       "      <td>6</td>\n",
       "    </tr>\n",
       "    <tr>\n",
       "      <th>1</th>\n",
       "      <td>2024-06-27 17:26:50</td>\n",
       "      <td>56a41251185bd205961556399289804607ccc660392837...</td>\n",
       "      <td>2833.33</td>\n",
       "      <td>202406</td>\n",
       "      <td>Automatic</td>\n",
       "      <td>2780</td>\n",
       "      <td>2024</td>\n",
       "      <td>6</td>\n",
       "    </tr>\n",
       "    <tr>\n",
       "      <th>2</th>\n",
       "      <td>2024-06-27 18:45:40</td>\n",
       "      <td>000e57e83f161e4ba6458b3e32c00815405c5a005e652b...</td>\n",
       "      <td>143.98</td>\n",
       "      <td>202406</td>\n",
       "      <td>Automatic</td>\n",
       "      <td>2723</td>\n",
       "      <td>2024</td>\n",
       "      <td>6</td>\n",
       "    </tr>\n",
       "    <tr>\n",
       "      <th>3</th>\n",
       "      <td>2024-06-27 13:24:57</td>\n",
       "      <td>f3606d5ac9a89e0251a60d7183a09bc742eba2e36882af...</td>\n",
       "      <td>1000.00</td>\n",
       "      <td>202406</td>\n",
       "      <td>Automatic</td>\n",
       "      <td>500</td>\n",
       "      <td>2024</td>\n",
       "      <td>6</td>\n",
       "    </tr>\n",
       "    <tr>\n",
       "      <th>4</th>\n",
       "      <td>2024-06-27 13:31:44</td>\n",
       "      <td>f3606d5ac9a89e0251a60d7183a09bc742eba2e36882af...</td>\n",
       "      <td>801.00</td>\n",
       "      <td>202406</td>\n",
       "      <td>Manual</td>\n",
       "      <td>500</td>\n",
       "      <td>2024</td>\n",
       "      <td>6</td>\n",
       "    </tr>\n",
       "  </tbody>\n",
       "</table>\n",
       "</div>"
      ],
      "text/plain": [
       "            date_time                                        customer_id  \\\n",
       "0 2024-06-27 07:16:36  683131338d401fda38410a808797b7706bc3e364d0fe77...   \n",
       "1 2024-06-27 17:26:50  56a41251185bd205961556399289804607ccc660392837...   \n",
       "2 2024-06-27 18:45:40  000e57e83f161e4ba6458b3e32c00815405c5a005e652b...   \n",
       "3 2024-06-27 13:24:57  f3606d5ac9a89e0251a60d7183a09bc742eba2e36882af...   \n",
       "4 2024-06-27 13:31:44  f3606d5ac9a89e0251a60d7183a09bc742eba2e36882af...   \n",
       "\n",
       "    amount rep_month repayment_type  new_customer_id  year  month  \n",
       "0   500.65    202406      Automatic             1999  2024      6  \n",
       "1  2833.33    202406      Automatic             2780  2024      6  \n",
       "2   143.98    202406      Automatic             2723  2024      6  \n",
       "3  1000.00    202406      Automatic              500  2024      6  \n",
       "4   801.00    202406         Manual              500  2024      6  "
      ]
     },
     "execution_count": 8,
     "metadata": {},
     "output_type": "execute_result"
    }
   ],
   "source": [
    "# Convert 'rep_month' to string to extract year and month\n",
    "repayment['rep_month'] = repayment['rep_month'].astype(str)\n",
    "\n",
    "# Extract year and month from 'rep_month'\n",
    "repayment['year'] = repayment['rep_month'].str[:4].astype(int)  # First 4 digits are the year\n",
    "repayment['month'] = repayment['rep_month'].str[4:6].astype(int)  # Last 2 digits are the month\n",
    "\n",
    "print(repayment.info())\n",
    "print()\n",
    "repayment.head()\n"
   ]
  },
  {
   "cell_type": "markdown",
   "id": "88dff20d",
   "metadata": {
    "papermill": {
     "duration": 0.007023,
     "end_time": "2025-04-18T11:38:03.596334",
     "exception": false,
     "start_time": "2025-04-18T11:38:03.589311",
     "status": "completed"
    },
    "tags": []
   },
   "source": [
    "### Connect to a Database and convert the Dataframes to tables"
   ]
  },
  {
   "cell_type": "code",
   "execution_count": 9,
   "id": "e017bb85",
   "metadata": {
    "execution": {
     "iopub.execute_input": "2025-04-18T11:38:03.613336Z",
     "iopub.status.busy": "2025-04-18T11:38:03.611978Z",
     "iopub.status.idle": "2025-04-18T11:38:03.616970Z",
     "shell.execute_reply": "2025-04-18T11:38:03.616283Z"
    },
    "papermill": {
     "duration": 0.014932,
     "end_time": "2025-04-18T11:38:03.618504",
     "exception": false,
     "start_time": "2025-04-18T11:38:03.603572",
     "status": "completed"
    },
    "tags": []
   },
   "outputs": [],
   "source": [
    "# Connect to the database\n",
    "conn = sqlite3.connect('Loan_Details.db')"
   ]
  },
  {
   "cell_type": "code",
   "execution_count": 10,
   "id": "a12afbec",
   "metadata": {
    "execution": {
     "iopub.execute_input": "2025-04-18T11:38:03.634438Z",
     "iopub.status.busy": "2025-04-18T11:38:03.634093Z",
     "iopub.status.idle": "2025-04-18T11:38:04.282308Z",
     "shell.execute_reply": "2025-04-18T11:38:04.281051Z"
    },
    "papermill": {
     "duration": 0.658305,
     "end_time": "2025-04-18T11:38:04.283957",
     "exception": false,
     "start_time": "2025-04-18T11:38:03.625652",
     "status": "completed"
    },
    "tags": []
   },
   "outputs": [
    {
     "name": "stdout",
     "output_type": "stream",
     "text": [
      "Table 'disbursements' created and data loaded successfully.\n",
      "Table 'repayments' created and data loaded successfully.\n"
     ]
    }
   ],
   "source": [
    "# Function to create tables if they don't exist\n",
    "def create_table_if_not_exists(df, table_name):\n",
    "    cursor = conn.cursor()\n",
    "    \n",
    "    # Check if the table already exists\n",
    "    cursor.execute(f\"SELECT name FROM sqlite_master WHERE type='table' AND name='{table_name}'\")\n",
    "    table_exists = len(cursor.fetchall()) > 0\n",
    "    \n",
    "    if not table_exists:\n",
    "        # Load data to the table only if it doesn't exist\n",
    "        df.to_sql(table_name, conn, if_exists='replace', index=False)\n",
    "        print(f\"Table '{table_name}' created and data loaded successfully.\")\n",
    "    else:\n",
    "        print(f\"Table '{table_name}' already exists. Skipping data loading.\")\n",
    "\n",
    "# Create 'disbursements' table if it doesn't exist\n",
    "create_table_if_not_exists(disbursement, 'disbursements')\n",
    "\n",
    "# Create 'repayments' table if it doesn't exist\n",
    "create_table_if_not_exists(repayment, 'repayments')"
   ]
  },
  {
   "cell_type": "code",
   "execution_count": 11,
   "id": "1375e3bf",
   "metadata": {
    "execution": {
     "iopub.execute_input": "2025-04-18T11:38:04.299647Z",
     "iopub.status.busy": "2025-04-18T11:38:04.299333Z",
     "iopub.status.idle": "2025-04-18T11:38:04.312685Z",
     "shell.execute_reply": "2025-04-18T11:38:04.311697Z"
    },
    "papermill": {
     "duration": 0.022961,
     "end_time": "2025-04-18T11:38:04.314243",
     "exception": false,
     "start_time": "2025-04-18T11:38:04.291282",
     "status": "completed"
    },
    "tags": []
   },
   "outputs": [
    {
     "data": {
      "text/html": [
       "<div>\n",
       "<style scoped>\n",
       "    .dataframe tbody tr th:only-of-type {\n",
       "        vertical-align: middle;\n",
       "    }\n",
       "\n",
       "    .dataframe tbody tr th {\n",
       "        vertical-align: top;\n",
       "    }\n",
       "\n",
       "    .dataframe thead th {\n",
       "        text-align: right;\n",
       "    }\n",
       "</style>\n",
       "<table border=\"1\" class=\"dataframe\">\n",
       "  <thead>\n",
       "    <tr style=\"text-align: right;\">\n",
       "      <th></th>\n",
       "      <th>customer_id</th>\n",
       "      <th>disb_date</th>\n",
       "      <th>tenure</th>\n",
       "      <th>account_num</th>\n",
       "      <th>loan_amount</th>\n",
       "      <th>loan_fee</th>\n",
       "      <th>new_customer_id</th>\n",
       "      <th>tenure_days</th>\n",
       "    </tr>\n",
       "  </thead>\n",
       "  <tbody>\n",
       "    <tr>\n",
       "      <th>0</th>\n",
       "      <td>91810ca1aa097db79f050f38e9946fa5482b4e28c925e2...</td>\n",
       "      <td>2024-03-19 00:00:00</td>\n",
       "      <td>14 days</td>\n",
       "      <td>3O66YENWELA6E2H1R9YLX0LDZNOMNHD4</td>\n",
       "      <td>360</td>\n",
       "      <td>43.2</td>\n",
       "      <td>1</td>\n",
       "      <td>14</td>\n",
       "    </tr>\n",
       "    <tr>\n",
       "      <th>1</th>\n",
       "      <td>42ca06e6fe1ff9803e82a5c20184671b54090e488f78d6...</td>\n",
       "      <td>2024-03-19 00:00:00</td>\n",
       "      <td>7 days</td>\n",
       "      <td>6XWHXKKR1W2HIA8I0V75PZFZBXUUGSVO</td>\n",
       "      <td>70</td>\n",
       "      <td>7.0</td>\n",
       "      <td>2</td>\n",
       "      <td>7</td>\n",
       "    </tr>\n",
       "    <tr>\n",
       "      <th>2</th>\n",
       "      <td>b23747f53af805e18ad16a4ef235b6642d88f9134644ff...</td>\n",
       "      <td>2024-03-19 00:00:00</td>\n",
       "      <td>7 days</td>\n",
       "      <td>OCGK3RJZ91A999VXD4VB3LATPSME3J5L</td>\n",
       "      <td>3500</td>\n",
       "      <td>350.0</td>\n",
       "      <td>3</td>\n",
       "      <td>7</td>\n",
       "    </tr>\n",
       "    <tr>\n",
       "      <th>3</th>\n",
       "      <td>1bd32f9b083fc6ddfffd65730fbfa66654fa76a19b0b0e...</td>\n",
       "      <td>2024-03-19 00:00:00</td>\n",
       "      <td>14 days</td>\n",
       "      <td>9X3Q682DOR7927IMMJLFHBGP0RP7YF5C</td>\n",
       "      <td>3500</td>\n",
       "      <td>420.0</td>\n",
       "      <td>4</td>\n",
       "      <td>14</td>\n",
       "    </tr>\n",
       "    <tr>\n",
       "      <th>4</th>\n",
       "      <td>e7cfbaa97ba7702c52df5f1dddba54bd26923ebad945f1...</td>\n",
       "      <td>2024-03-19 00:00:00</td>\n",
       "      <td>7 days</td>\n",
       "      <td>AQH88NNF8S76MGJL4J4ULEAE18O0KLWH</td>\n",
       "      <td>120</td>\n",
       "      <td>12.0</td>\n",
       "      <td>5</td>\n",
       "      <td>7</td>\n",
       "    </tr>\n",
       "  </tbody>\n",
       "</table>\n",
       "</div>"
      ],
      "text/plain": [
       "                                         customer_id            disb_date  \\\n",
       "0  91810ca1aa097db79f050f38e9946fa5482b4e28c925e2...  2024-03-19 00:00:00   \n",
       "1  42ca06e6fe1ff9803e82a5c20184671b54090e488f78d6...  2024-03-19 00:00:00   \n",
       "2  b23747f53af805e18ad16a4ef235b6642d88f9134644ff...  2024-03-19 00:00:00   \n",
       "3  1bd32f9b083fc6ddfffd65730fbfa66654fa76a19b0b0e...  2024-03-19 00:00:00   \n",
       "4  e7cfbaa97ba7702c52df5f1dddba54bd26923ebad945f1...  2024-03-19 00:00:00   \n",
       "\n",
       "    tenure                       account_num  loan_amount  loan_fee  \\\n",
       "0  14 days  3O66YENWELA6E2H1R9YLX0LDZNOMNHD4          360      43.2   \n",
       "1   7 days  6XWHXKKR1W2HIA8I0V75PZFZBXUUGSVO           70       7.0   \n",
       "2   7 days  OCGK3RJZ91A999VXD4VB3LATPSME3J5L         3500     350.0   \n",
       "3  14 days  9X3Q682DOR7927IMMJLFHBGP0RP7YF5C         3500     420.0   \n",
       "4   7 days  AQH88NNF8S76MGJL4J4ULEAE18O0KLWH          120      12.0   \n",
       "\n",
       "   new_customer_id  tenure_days  \n",
       "0                1           14  \n",
       "1                2            7  \n",
       "2                3            7  \n",
       "3                4           14  \n",
       "4                5            7  "
      ]
     },
     "execution_count": 11,
     "metadata": {},
     "output_type": "execute_result"
    }
   ],
   "source": [
    "# Now I will use SQL commands to perform analysis on the 'retail_sales' table\n",
    "# pd.read_sql_query is an optimized approach for working with pandas and sqlite3\n",
    "\n",
    "# Inspect the first_10_rows of disbursements table\n",
    "first_5_rows_disbursement = pd.read_sql_query(\"\"\"SELECT *\n",
    "                                   FROM disbursements\n",
    "                                   LIMIT 5;\"\"\", conn)\n",
    "first_5_rows_disbursement"
   ]
  },
  {
   "cell_type": "code",
   "execution_count": 12,
   "id": "09e81351",
   "metadata": {
    "execution": {
     "iopub.execute_input": "2025-04-18T11:38:04.331795Z",
     "iopub.status.busy": "2025-04-18T11:38:04.330960Z",
     "iopub.status.idle": "2025-04-18T11:38:04.343628Z",
     "shell.execute_reply": "2025-04-18T11:38:04.342735Z"
    },
    "papermill": {
     "duration": 0.022777,
     "end_time": "2025-04-18T11:38:04.345122",
     "exception": false,
     "start_time": "2025-04-18T11:38:04.322345",
     "status": "completed"
    },
    "tags": []
   },
   "outputs": [
    {
     "data": {
      "text/html": [
       "<div>\n",
       "<style scoped>\n",
       "    .dataframe tbody tr th:only-of-type {\n",
       "        vertical-align: middle;\n",
       "    }\n",
       "\n",
       "    .dataframe tbody tr th {\n",
       "        vertical-align: top;\n",
       "    }\n",
       "\n",
       "    .dataframe thead th {\n",
       "        text-align: right;\n",
       "    }\n",
       "</style>\n",
       "<table border=\"1\" class=\"dataframe\">\n",
       "  <thead>\n",
       "    <tr style=\"text-align: right;\">\n",
       "      <th></th>\n",
       "      <th>date_time</th>\n",
       "      <th>customer_id</th>\n",
       "      <th>amount</th>\n",
       "      <th>rep_month</th>\n",
       "      <th>repayment_type</th>\n",
       "      <th>new_customer_id</th>\n",
       "      <th>year</th>\n",
       "      <th>month</th>\n",
       "    </tr>\n",
       "  </thead>\n",
       "  <tbody>\n",
       "    <tr>\n",
       "      <th>0</th>\n",
       "      <td>2024-06-27 07:16:36</td>\n",
       "      <td>683131338d401fda38410a808797b7706bc3e364d0fe77...</td>\n",
       "      <td>500.65</td>\n",
       "      <td>202406</td>\n",
       "      <td>Automatic</td>\n",
       "      <td>1999</td>\n",
       "      <td>2024</td>\n",
       "      <td>6</td>\n",
       "    </tr>\n",
       "    <tr>\n",
       "      <th>1</th>\n",
       "      <td>2024-06-27 17:26:50</td>\n",
       "      <td>56a41251185bd205961556399289804607ccc660392837...</td>\n",
       "      <td>2833.33</td>\n",
       "      <td>202406</td>\n",
       "      <td>Automatic</td>\n",
       "      <td>2780</td>\n",
       "      <td>2024</td>\n",
       "      <td>6</td>\n",
       "    </tr>\n",
       "    <tr>\n",
       "      <th>2</th>\n",
       "      <td>2024-06-27 18:45:40</td>\n",
       "      <td>000e57e83f161e4ba6458b3e32c00815405c5a005e652b...</td>\n",
       "      <td>143.98</td>\n",
       "      <td>202406</td>\n",
       "      <td>Automatic</td>\n",
       "      <td>2723</td>\n",
       "      <td>2024</td>\n",
       "      <td>6</td>\n",
       "    </tr>\n",
       "    <tr>\n",
       "      <th>3</th>\n",
       "      <td>2024-06-27 13:24:57</td>\n",
       "      <td>f3606d5ac9a89e0251a60d7183a09bc742eba2e36882af...</td>\n",
       "      <td>1000.00</td>\n",
       "      <td>202406</td>\n",
       "      <td>Automatic</td>\n",
       "      <td>500</td>\n",
       "      <td>2024</td>\n",
       "      <td>6</td>\n",
       "    </tr>\n",
       "    <tr>\n",
       "      <th>4</th>\n",
       "      <td>2024-06-27 13:31:44</td>\n",
       "      <td>f3606d5ac9a89e0251a60d7183a09bc742eba2e36882af...</td>\n",
       "      <td>801.00</td>\n",
       "      <td>202406</td>\n",
       "      <td>Manual</td>\n",
       "      <td>500</td>\n",
       "      <td>2024</td>\n",
       "      <td>6</td>\n",
       "    </tr>\n",
       "  </tbody>\n",
       "</table>\n",
       "</div>"
      ],
      "text/plain": [
       "             date_time                                        customer_id  \\\n",
       "0  2024-06-27 07:16:36  683131338d401fda38410a808797b7706bc3e364d0fe77...   \n",
       "1  2024-06-27 17:26:50  56a41251185bd205961556399289804607ccc660392837...   \n",
       "2  2024-06-27 18:45:40  000e57e83f161e4ba6458b3e32c00815405c5a005e652b...   \n",
       "3  2024-06-27 13:24:57  f3606d5ac9a89e0251a60d7183a09bc742eba2e36882af...   \n",
       "4  2024-06-27 13:31:44  f3606d5ac9a89e0251a60d7183a09bc742eba2e36882af...   \n",
       "\n",
       "    amount rep_month repayment_type  new_customer_id  year  month  \n",
       "0   500.65    202406      Automatic             1999  2024      6  \n",
       "1  2833.33    202406      Automatic             2780  2024      6  \n",
       "2   143.98    202406      Automatic             2723  2024      6  \n",
       "3  1000.00    202406      Automatic              500  2024      6  \n",
       "4   801.00    202406         Manual              500  2024      6  "
      ]
     },
     "execution_count": 12,
     "metadata": {},
     "output_type": "execute_result"
    }
   ],
   "source": [
    "# Inspect the first_10_rows of repayments table\n",
    "\n",
    "# Inspect the first_10_rows\n",
    "first_5_rows_repayment = pd.read_sql_query(\"\"\"SELECT *\n",
    "                                   FROM repayments\n",
    "                                   LIMIT 5;\"\"\", conn)\n",
    "first_5_rows_repayment"
   ]
  },
  {
   "cell_type": "markdown",
   "id": "313ddcf8",
   "metadata": {
    "papermill": {
     "duration": 0.007446,
     "end_time": "2025-04-18T11:38:04.360586",
     "exception": false,
     "start_time": "2025-04-18T11:38:04.353140",
     "status": "completed"
    },
    "tags": []
   },
   "source": [
    "### Total loan amount disbursed and loan fee analysis"
   ]
  },
  {
   "cell_type": "code",
   "execution_count": 13,
   "id": "4959f9b7",
   "metadata": {
    "execution": {
     "iopub.execute_input": "2025-04-18T11:38:04.377384Z",
     "iopub.status.busy": "2025-04-18T11:38:04.377022Z",
     "iopub.status.idle": "2025-04-18T11:38:04.401256Z",
     "shell.execute_reply": "2025-04-18T11:38:04.400347Z"
    },
    "papermill": {
     "duration": 0.03464,
     "end_time": "2025-04-18T11:38:04.402796",
     "exception": false,
     "start_time": "2025-04-18T11:38:04.368156",
     "status": "completed"
    },
    "tags": []
   },
   "outputs": [
    {
     "data": {
      "text/html": [
       "<div>\n",
       "<style scoped>\n",
       "    .dataframe tbody tr th:only-of-type {\n",
       "        vertical-align: middle;\n",
       "    }\n",
       "\n",
       "    .dataframe tbody tr th {\n",
       "        vertical-align: top;\n",
       "    }\n",
       "\n",
       "    .dataframe thead th {\n",
       "        text-align: right;\n",
       "    }\n",
       "</style>\n",
       "<table border=\"1\" class=\"dataframe\">\n",
       "  <thead>\n",
       "    <tr style=\"text-align: right;\">\n",
       "      <th></th>\n",
       "      <th>total_loan_amount</th>\n",
       "      <th>avg_loan_fee</th>\n",
       "      <th>total_customers</th>\n",
       "    </tr>\n",
       "  </thead>\n",
       "  <tbody>\n",
       "    <tr>\n",
       "      <th>0</th>\n",
       "      <td>26612154</td>\n",
       "      <td>129.698904</td>\n",
       "      <td>2996</td>\n",
       "    </tr>\n",
       "  </tbody>\n",
       "</table>\n",
       "</div>"
      ],
      "text/plain": [
       "   total_loan_amount  avg_loan_fee  total_customers\n",
       "0           26612154    129.698904             2996"
      ]
     },
     "execution_count": 13,
     "metadata": {},
     "output_type": "execute_result"
    }
   ],
   "source": [
    "total_disbursed = pd.read_sql_query(\"\"\"\n",
    "SELECT \n",
    "    SUM(loan_amount) AS total_loan_amount,\n",
    "    AVG(loan_fee) AS avg_loan_fee,\n",
    "    COUNT(DISTINCT new_customer_id) AS total_customers\n",
    "FROM disbursements;\"\"\", conn)\n",
    "\n",
    "total_disbursed"
   ]
  },
  {
   "cell_type": "markdown",
   "id": "af4722d7",
   "metadata": {
    "papermill": {
     "duration": 0.008029,
     "end_time": "2025-04-18T11:38:04.419055",
     "exception": false,
     "start_time": "2025-04-18T11:38:04.411026",
     "status": "completed"
    },
    "tags": []
   },
   "source": [
    "### Loan Amount by Customer"
   ]
  },
  {
   "cell_type": "code",
   "execution_count": 14,
   "id": "511b3cfd",
   "metadata": {
    "execution": {
     "iopub.execute_input": "2025-04-18T11:38:04.435911Z",
     "iopub.status.busy": "2025-04-18T11:38:04.435573Z",
     "iopub.status.idle": "2025-04-18T11:38:04.780552Z",
     "shell.execute_reply": "2025-04-18T11:38:04.779536Z"
    },
    "papermill": {
     "duration": 0.355516,
     "end_time": "2025-04-18T11:38:04.782271",
     "exception": false,
     "start_time": "2025-04-18T11:38:04.426755",
     "status": "completed"
    },
    "tags": []
   },
   "outputs": [
    {
     "data": {
      "image/png": "[encoded data removed]",
      "text/plain": [
       "<Figure size 1000x600 with 1 Axes>"
      ]
     },
     "metadata": {},
     "output_type": "display_data"
    }
   ],
   "source": [
    "loan_by_customer = pd.read_sql_query(\"\"\"\n",
    "SELECT \n",
    "    new_customer_id, \n",
    "    SUM(loan_amount) AS total_loan_amount\n",
    "FROM disbursements\n",
    "GROUP BY new_customer_id;\"\"\", conn)\n",
    "\n",
    "\n",
    "# Plot the loan amount distribution\n",
    "plt.figure(figsize=(10,6))\n",
    "plt.hist(loan_by_customer['total_loan_amount'], bins=50, edgecolor='black')\n",
    "plt.title('Distribution of Loan Amounts by Customer')\n",
    "plt.xlabel('Loan Amount')\n",
    "plt.ylabel('Number of Customers')\n",
    "plt.grid(True)\n",
    "plt.show()"
   ]
  },
  {
   "cell_type": "code",
   "execution_count": 15,
   "id": "5ff84e50",
   "metadata": {
    "execution": {
     "iopub.execute_input": "2025-04-18T11:38:04.871671Z",
     "iopub.status.busy": "2025-04-18T11:38:04.871299Z",
     "iopub.status.idle": "2025-04-18T11:38:04.884534Z",
     "shell.execute_reply": "2025-04-18T11:38:04.883771Z"
    },
    "papermill": {
     "duration": 0.094771,
     "end_time": "2025-04-18T11:38:04.885788",
     "exception": false,
     "start_time": "2025-04-18T11:38:04.791017",
     "status": "completed"
    },
    "tags": []
   },
   "outputs": [
    {
     "data": {
      "text/plain": [
       "count      2996.000000\n",
       "mean       8882.561415\n",
       "std       12253.852366\n",
       "min          70.000000\n",
       "25%        1140.000000\n",
       "50%        4045.000000\n",
       "75%       12302.500000\n",
       "max      127760.000000\n",
       "Name: total_loan_amount, dtype: float64"
      ]
     },
     "execution_count": 15,
     "metadata": {},
     "output_type": "execute_result"
    }
   ],
   "source": [
    "# Show summary statistics of loan amounts per customer\n",
    "loan_by_customer_stats = loan_by_customer['total_loan_amount'].describe()\n",
    "loan_by_customer_stats"
   ]
  },
  {
   "cell_type": "markdown",
   "id": "423f6120",
   "metadata": {
    "papermill": {
     "duration": 0.008112,
     "end_time": "2025-04-18T11:38:04.902293",
     "exception": false,
     "start_time": "2025-04-18T11:38:04.894181",
     "status": "completed"
    },
    "tags": []
   },
   "source": [
    "### Loan Amount by Tenure"
   ]
  },
  {
   "cell_type": "code",
   "execution_count": 16,
   "id": "5e8802f9",
   "metadata": {
    "execution": {
     "iopub.execute_input": "2025-04-18T11:38:04.922810Z",
     "iopub.status.busy": "2025-04-18T11:38:04.922047Z",
     "iopub.status.idle": "2025-04-18T11:38:05.092325Z",
     "shell.execute_reply": "2025-04-18T11:38:05.091172Z"
    },
    "papermill": {
     "duration": 0.183138,
     "end_time": "2025-04-18T11:38:05.093877",
     "exception": false,
     "start_time": "2025-04-18T11:38:04.910739",
     "status": "completed"
    },
    "tags": []
   },
   "outputs": [
    {
     "data": {
      "image/png": "[encoded data removed]",
      "text/plain": [
       "<Figure size 1000x600 with 1 Axes>"
      ]
     },
     "metadata": {},
     "output_type": "display_data"
    }
   ],
   "source": [
    "loan_by_tenure = pd.read_sql_query(\"\"\"\n",
    "SELECT \n",
    "    tenure, \n",
    "    SUM(loan_amount) AS total_loan_amount\n",
    "FROM disbursements\n",
    "GROUP BY tenure;\"\"\", conn)\n",
    "\n",
    "# Plot the loan amount by tenure\n",
    "plt.figure(figsize=(10,6))\n",
    "plt.bar(loan_by_tenure['tenure'], loan_by_tenure['total_loan_amount'], color='skyblue')\n",
    "plt.title('Loan Amount by Tenure')\n",
    "plt.xlabel('Tenure')\n",
    "plt.ylabel('Total Loan Amount')\n",
    "\n",
    "# Format the y-axis to show full loan amounts\n",
    "formatter = FuncFormatter(lambda x, _: f'{x:,.0f}')  # Adds commas for thousands, no decimal points\n",
    "plt.gca().yaxis.set_major_formatter(formatter)\n",
    "\n",
    "# Rotate x-axis labels\n",
    "plt.xticks(rotation=45)\n",
    "\n",
    "# Display grid for y-axis\n",
    "plt.grid(True, axis='y')\n",
    "\n",
    "# Show the plot\n",
    "plt.show()"
   ]
  },
  {
   "cell_type": "code",
   "execution_count": 17,
   "id": "cca8a786",
   "metadata": {
    "execution": {
     "iopub.execute_input": "2025-04-18T11:38:05.113886Z",
     "iopub.status.busy": "2025-04-18T11:38:05.113489Z",
     "iopub.status.idle": "2025-04-18T11:38:05.123515Z",
     "shell.execute_reply": "2025-04-18T11:38:05.122437Z"
    },
    "papermill": {
     "duration": 0.021811,
     "end_time": "2025-04-18T11:38:05.124984",
     "exception": false,
     "start_time": "2025-04-18T11:38:05.103173",
     "status": "completed"
    },
    "tags": []
   },
   "outputs": [
    {
     "name": "stdout",
     "output_type": "stream",
     "text": [
      "count             3\n",
      "mean      8,870,718\n",
      "std       3,350,877\n",
      "min       6,231,853\n",
      "25%       6,985,678\n",
      "50%       7,739,503\n",
      "75%      10,190,150\n",
      "max      12,640,798\n",
      "Name: total_loan_amount, dtype: object\n"
     ]
    }
   ],
   "source": [
    "# Show summary statistics of loan amounts by tenure\n",
    "loan_by_tenure_stats = loan_by_tenure['total_loan_amount'].describe()\n",
    "\n",
    "# Format the summary statistics for better readability\n",
    "formatted_stats = loan_by_tenure_stats.apply(lambda x: f'{x:,.0f}' if isinstance(x, (int, float)) else x)\n",
    "\n",
    "# Print the formatted summary statistics\n",
    "print(formatted_stats)"
   ]
  },
  {
   "cell_type": "markdown",
   "id": "bfb815ab",
   "metadata": {
    "papermill": {
     "duration": 0.009067,
     "end_time": "2025-04-18T11:38:05.143807",
     "exception": false,
     "start_time": "2025-04-18T11:38:05.134740",
     "status": "completed"
    },
    "tags": []
   },
   "source": [
    "### Repayment Trends Over Time"
   ]
  },
  {
   "cell_type": "code",
   "execution_count": 18,
   "id": "a399cecc",
   "metadata": {
    "execution": {
     "iopub.execute_input": "2025-04-18T11:38:05.163137Z",
     "iopub.status.busy": "2025-04-18T11:38:05.162850Z",
     "iopub.status.idle": "2025-04-18T11:38:05.199093Z",
     "shell.execute_reply": "2025-04-18T11:38:05.198127Z"
    },
    "papermill": {
     "duration": 0.047774,
     "end_time": "2025-04-18T11:38:05.200682",
     "exception": false,
     "start_time": "2025-04-18T11:38:05.152908",
     "status": "completed"
    },
    "tags": []
   },
   "outputs": [
    {
     "data": {
      "text/html": [
       "<div>\n",
       "<style scoped>\n",
       "    .dataframe tbody tr th:only-of-type {\n",
       "        vertical-align: middle;\n",
       "    }\n",
       "\n",
       "    .dataframe tbody tr th {\n",
       "        vertical-align: top;\n",
       "    }\n",
       "\n",
       "    .dataframe thead th {\n",
       "        text-align: right;\n",
       "    }\n",
       "</style>\n",
       "<table border=\"1\" class=\"dataframe\">\n",
       "  <thead>\n",
       "    <tr style=\"text-align: right;\">\n",
       "      <th></th>\n",
       "      <th>total_loan_amount</th>\n",
       "      <th>total_customers</th>\n",
       "    </tr>\n",
       "  </thead>\n",
       "  <tbody>\n",
       "    <tr>\n",
       "      <th>0</th>\n",
       "      <td>30503130.33</td>\n",
       "      <td>2995</td>\n",
       "    </tr>\n",
       "  </tbody>\n",
       "</table>\n",
       "</div>"
      ],
      "text/plain": [
       "   total_loan_amount  total_customers\n",
       "0        30503130.33             2995"
      ]
     },
     "execution_count": 18,
     "metadata": {},
     "output_type": "execute_result"
    }
   ],
   "source": [
    "total_repayment = pd.read_sql_query(\"\"\"\n",
    "SELECT \n",
    "    SUM(amount) AS total_loan_amount,\n",
    "    COUNT(DISTINCT new_customer_id) AS total_customers\n",
    "FROM repayments;\"\"\", conn)\n",
    "\n",
    "total_repayment      # Disbursement customers 2996 and repayments 2995. 1 customer has NULL repayments"
   ]
  },
  {
   "cell_type": "code",
   "execution_count": 19,
   "id": "f5efbde4",
   "metadata": {
    "execution": {
     "iopub.execute_input": "2025-04-18T11:38:05.221860Z",
     "iopub.status.busy": "2025-04-18T11:38:05.221557Z",
     "iopub.status.idle": "2025-04-18T11:38:05.480596Z",
     "shell.execute_reply": "2025-04-18T11:38:05.479407Z"
    },
    "papermill": {
     "duration": 0.271473,
     "end_time": "2025-04-18T11:38:05.482353",
     "exception": false,
     "start_time": "2025-04-18T11:38:05.210880",
     "status": "completed"
    },
    "tags": []
   },
   "outputs": [
    {
     "data": {
      "image/png": "[encoded data removed]",
      "text/plain": [
       "<Figure size 1000x600 with 1 Axes>"
      ]
     },
     "metadata": {},
     "output_type": "display_data"
    }
   ],
   "source": [
    "repayment_trends = pd.read_sql_query(\"\"\"\n",
    "SELECT \n",
    "    strftime('%Y-%m', date_time) AS month_year,  -- Extract year and month from 'date_time'\n",
    "    SUM(amount) AS total_repayment               -- Sum the repayment amount for each month\n",
    "FROM repayments\n",
    "GROUP BY month_year                             -- Group the results by month_year\n",
    "ORDER BY month_year;                            -- Order the results by month_year\n",
    "\"\"\", conn)\n",
    "\n",
    "# Plot the repayment trends over time\n",
    "plt.figure(figsize=(10,6))\n",
    "plt.plot(repayment_trends['month_year'], repayment_trends['total_repayment'], marker='o', color='b')\n",
    "plt.title('Repayment Trends Over Time')\n",
    "plt.xlabel('Month/Year')\n",
    "plt.ylabel('Total Repayment Amount')\n",
    "\n",
    "# Format the y-axis to show full loan amounts\n",
    "formatter = FuncFormatter(lambda x, _: f'{x:,.0f}')  # Adds commas for thousands, no decimal points\n",
    "plt.gca().yaxis.set_major_formatter(formatter)\n",
    "\n",
    "# Display grid for y-axis\n",
    "plt.grid(True, axis='y')\n",
    "plt.xticks(rotation=45)\n",
    "plt.grid(True)\n",
    "plt.show()\n"
   ]
  },
  {
   "cell_type": "markdown",
   "id": "6245ff6d",
   "metadata": {
    "papermill": {
     "duration": 0.010302,
     "end_time": "2025-04-18T11:38:05.504655",
     "exception": false,
     "start_time": "2025-04-18T11:38:05.494353",
     "status": "completed"
    },
    "tags": []
   },
   "source": [
    "### Repayment by Customer"
   ]
  },
  {
   "cell_type": "code",
   "execution_count": 20,
   "id": "5703f20f",
   "metadata": {
    "execution": {
     "iopub.execute_input": "2025-04-18T11:38:05.527164Z",
     "iopub.status.busy": "2025-04-18T11:38:05.526811Z",
     "iopub.status.idle": "2025-04-18T11:38:05.817510Z",
     "shell.execute_reply": "2025-04-18T11:38:05.816346Z"
    },
    "papermill": {
     "duration": 0.303638,
     "end_time": "2025-04-18T11:38:05.819054",
     "exception": false,
     "start_time": "2025-04-18T11:38:05.515416",
     "status": "completed"
    },
    "tags": []
   },
   "outputs": [
    {
     "data": {
      "image/png": "[encoded data removed]",
      "text/plain": [
       "<Figure size 1000x600 with 1 Axes>"
      ]
     },
     "metadata": {},
     "output_type": "display_data"
    }
   ],
   "source": [
    "repayment_by_customer = pd.read_sql_query(\"\"\"\n",
    "SELECT \n",
    "    new_customer_id,\n",
    "    AVG(amount) AS average_repayment\n",
    "FROM repayments\n",
    "GROUP BY new_customer_id;\"\"\",conn)\n",
    "\n",
    "\n",
    "# Plot the average repayment per customer\n",
    "plt.figure(figsize=(10,6))\n",
    "plt.hist(repayment_by_customer['average_repayment'], bins=50, edgecolor='black')\n",
    "plt.title('Distribution of Average Repayment Amounts by Customer')\n",
    "plt.xlabel('Average Repayment Amount')\n",
    "\n",
    "# Format the y-axis to show full loan amounts\n",
    "formatter = FuncFormatter(lambda x, _: f'{x:,.0f}')  # Adds commas for thousands, no decimal points\n",
    "plt.gca().yaxis.set_major_formatter(formatter)\n",
    "\n",
    "plt.ylabel('Number of Customers')\n",
    "plt.grid(True)\n",
    "plt.show()"
   ]
  },
  {
   "cell_type": "code",
   "execution_count": 21,
   "id": "208d8ea0",
   "metadata": {
    "execution": {
     "iopub.execute_input": "2025-04-18T11:38:05.842834Z",
     "iopub.status.busy": "2025-04-18T11:38:05.842488Z",
     "iopub.status.idle": "2025-04-18T11:38:05.851971Z",
     "shell.execute_reply": "2025-04-18T11:38:05.850959Z"
    },
    "papermill": {
     "duration": 0.022997,
     "end_time": "2025-04-18T11:38:05.853341",
     "exception": false,
     "start_time": "2025-04-18T11:38:05.830344",
     "status": "completed"
    },
    "tags": []
   },
   "outputs": [
    {
     "name": "stdout",
     "output_type": "stream",
     "text": [
      "count    2995.000000\n",
      "mean      516.940548\n",
      "std       696.550770\n",
      "min         0.100000\n",
      "25%        78.646667\n",
      "50%       210.833333\n",
      "75%       677.417147\n",
      "max      4025.000000\n",
      "Name: average_repayment, dtype: float64\n"
     ]
    }
   ],
   "source": [
    "# Show summary statistics of repayment by customer\n",
    "repayment_by_customer_stats = repayment_by_customer['average_repayment'].describe()\n",
    "print(repayment_by_customer_stats)"
   ]
  },
  {
   "cell_type": "markdown",
   "id": "12985e8a",
   "metadata": {
    "papermill": {
     "duration": 0.010778,
     "end_time": "2025-04-18T11:38:05.875258",
     "exception": false,
     "start_time": "2025-04-18T11:38:05.864480",
     "status": "completed"
    },
    "tags": []
   },
   "source": [
    "### Loan Amount vs. Repayment Amount"
   ]
  },
  {
   "cell_type": "code",
   "execution_count": 22,
   "id": "58218a22",
   "metadata": {
    "execution": {
     "iopub.execute_input": "2025-04-18T11:38:05.898796Z",
     "iopub.status.busy": "2025-04-18T11:38:05.898056Z",
     "iopub.status.idle": "2025-04-18T11:38:06.436442Z",
     "shell.execute_reply": "2025-04-18T11:38:06.435493Z"
    },
    "papermill": {
     "duration": 0.552114,
     "end_time": "2025-04-18T11:38:06.438110",
     "exception": false,
     "start_time": "2025-04-18T11:38:05.885996",
     "status": "completed"
    },
    "tags": []
   },
   "outputs": [
    {
     "data": {
      "text/html": [
       "<div>\n",
       "<style scoped>\n",
       "    .dataframe tbody tr th:only-of-type {\n",
       "        vertical-align: middle;\n",
       "    }\n",
       "\n",
       "    .dataframe tbody tr th {\n",
       "        vertical-align: top;\n",
       "    }\n",
       "\n",
       "    .dataframe thead th {\n",
       "        text-align: right;\n",
       "    }\n",
       "</style>\n",
       "<table border=\"1\" class=\"dataframe\">\n",
       "  <thead>\n",
       "    <tr style=\"text-align: right;\">\n",
       "      <th></th>\n",
       "      <th>new_customer_id</th>\n",
       "      <th>total_loan_amount</th>\n",
       "      <th>total_repayment</th>\n",
       "    </tr>\n",
       "  </thead>\n",
       "  <tbody>\n",
       "    <tr>\n",
       "      <th>0</th>\n",
       "      <td>1</td>\n",
       "      <td>157740</td>\n",
       "      <td>86301.0</td>\n",
       "    </tr>\n",
       "    <tr>\n",
       "      <th>1</th>\n",
       "      <td>2</td>\n",
       "      <td>24750</td>\n",
       "      <td>15249.0</td>\n",
       "    </tr>\n",
       "    <tr>\n",
       "      <th>2</th>\n",
       "      <td>3</td>\n",
       "      <td>7325500</td>\n",
       "      <td>2124965.4</td>\n",
       "    </tr>\n",
       "    <tr>\n",
       "      <th>3</th>\n",
       "      <td>4</td>\n",
       "      <td>1068550</td>\n",
       "      <td>226100.0</td>\n",
       "    </tr>\n",
       "    <tr>\n",
       "      <th>4</th>\n",
       "      <td>5</td>\n",
       "      <td>82460</td>\n",
       "      <td>60009.6</td>\n",
       "    </tr>\n",
       "  </tbody>\n",
       "</table>\n",
       "</div>"
      ],
      "text/plain": [
       "   new_customer_id  total_loan_amount  total_repayment\n",
       "0                1             157740          86301.0\n",
       "1                2              24750          15249.0\n",
       "2                3            7325500        2124965.4\n",
       "3                4            1068550         226100.0\n",
       "4                5              82460          60009.6"
      ]
     },
     "execution_count": 22,
     "metadata": {},
     "output_type": "execute_result"
    }
   ],
   "source": [
    "# Join disbursements and repayments to compare total loan amounts vs. total repayment amounts per customer\n",
    "disbursed_vs_repayment_by_customer = pd.read_sql_query(\"\"\"\n",
    "SELECT \n",
    "    d.new_customer_id,                                                  \n",
    "    SUM(d.loan_amount) AS total_loan_amount,\n",
    "    SUM(r.amount) AS total_repayment\n",
    "FROM disbursements d\n",
    "LEFT JOIN repayments r ON d.new_customer_id = r.new_customer_id\n",
    "GROUP BY d.new_customer_id;\"\"\",conn)\n",
    "\n",
    "disbursed_vs_repayment_by_customer.head()"
   ]
  },
  {
   "cell_type": "markdown",
   "id": "37b907ff",
   "metadata": {
    "papermill": {
     "duration": 0.011454,
     "end_time": "2025-04-18T11:38:06.461723",
     "exception": false,
     "start_time": "2025-04-18T11:38:06.450269",
     "status": "completed"
    },
    "tags": []
   },
   "source": [
    "### Repayment Performance"
   ]
  },
  {
   "cell_type": "code",
   "execution_count": 23,
   "id": "84dacd17",
   "metadata": {
    "execution": {
     "iopub.execute_input": "2025-04-18T11:38:06.486747Z",
     "iopub.status.busy": "2025-04-18T11:38:06.485931Z",
     "iopub.status.idle": "2025-04-18T11:38:08.467602Z",
     "shell.execute_reply": "2025-04-18T11:38:08.466659Z"
    },
    "papermill": {
     "duration": 1.995735,
     "end_time": "2025-04-18T11:38:08.468968",
     "exception": false,
     "start_time": "2025-04-18T11:38:06.473233",
     "status": "completed"
    },
    "tags": []
   },
   "outputs": [
    {
     "data": {
      "text/html": [
       "<div>\n",
       "<style scoped>\n",
       "    .dataframe tbody tr th:only-of-type {\n",
       "        vertical-align: middle;\n",
       "    }\n",
       "\n",
       "    .dataframe tbody tr th {\n",
       "        vertical-align: top;\n",
       "    }\n",
       "\n",
       "    .dataframe thead th {\n",
       "        text-align: right;\n",
       "    }\n",
       "</style>\n",
       "<table border=\"1\" class=\"dataframe\">\n",
       "  <thead>\n",
       "    <tr style=\"text-align: right;\">\n",
       "      <th></th>\n",
       "      <th>new_customer_id</th>\n",
       "      <th>on_time_repayments</th>\n",
       "      <th>late_repayments</th>\n",
       "      <th>total_repayments</th>\n",
       "    </tr>\n",
       "  </thead>\n",
       "  <tbody>\n",
       "    <tr>\n",
       "      <th>0</th>\n",
       "      <td>1</td>\n",
       "      <td>247</td>\n",
       "      <td>248</td>\n",
       "      <td>495</td>\n",
       "    </tr>\n",
       "    <tr>\n",
       "      <th>1</th>\n",
       "      <td>2</td>\n",
       "      <td>136</td>\n",
       "      <td>189</td>\n",
       "      <td>325</td>\n",
       "    </tr>\n",
       "    <tr>\n",
       "      <th>2</th>\n",
       "      <td>3</td>\n",
       "      <td>1030</td>\n",
       "      <td>1063</td>\n",
       "      <td>2093</td>\n",
       "    </tr>\n",
       "    <tr>\n",
       "      <th>3</th>\n",
       "      <td>4</td>\n",
       "      <td>210</td>\n",
       "      <td>134</td>\n",
       "      <td>344</td>\n",
       "    </tr>\n",
       "    <tr>\n",
       "      <th>4</th>\n",
       "      <td>5</td>\n",
       "      <td>300</td>\n",
       "      <td>289</td>\n",
       "      <td>589</td>\n",
       "    </tr>\n",
       "  </tbody>\n",
       "</table>\n",
       "</div>"
      ],
      "text/plain": [
       "   new_customer_id  on_time_repayments  late_repayments  total_repayments\n",
       "0                1                 247              248               495\n",
       "1                2                 136              189               325\n",
       "2                3                1030             1063              2093\n",
       "3                4                 210              134               344\n",
       "4                5                 300              289               589"
      ]
     },
     "execution_count": 23,
     "metadata": {},
     "output_type": "execute_result"
    }
   ],
   "source": [
    "ontime_vs_late_repayments = pd.read_sql_query(\"\"\"\n",
    "WITH repayment_status AS (\n",
    "    SELECT \n",
    "        r.new_customer_id,\n",
    "        r.amount,\n",
    "        r.repayment_type,\n",
    "        d.disb_date,\n",
    "        r.date_time AS repayment_date,\n",
    "        d.tenure_days,\n",
    "        -- Calculate the expected repayment date\n",
    "        DATE(d.disb_date, '+' || d.tenure_days || ' days') AS expected_repayment_date,\n",
    "        -- Determine whether the repayment is on-time or late\n",
    "        CASE\n",
    "            WHEN r.date_time <= DATE(d.disb_date, '+' || d.tenure_days || ' days') THEN 'On-Time'\n",
    "            ELSE 'Late'\n",
    "        END AS repayment_status\n",
    "    FROM repayments r\n",
    "    JOIN disbursements d ON r.new_customer_id = d.new_customer_id\n",
    ")\n",
    "-- Now, count the on-time vs late repayments and total repayments per customer\n",
    "SELECT \n",
    "    new_customer_id,\n",
    "    COUNT(CASE WHEN repayment_status = 'On-Time' THEN 1 END) AS on_time_repayments,\n",
    "    COUNT(CASE WHEN repayment_status = 'Late' THEN 1 END) AS late_repayments,\n",
    "    COUNT(*) AS total_repayments -- Count the total number of repayments per customer\n",
    "FROM repayment_status\n",
    "GROUP BY new_customer_id;\n",
    "\"\"\", conn)\n",
    "\n",
    "ontime_vs_late_repayments.head()"
   ]
  },
  {
   "cell_type": "markdown",
   "id": "c4273df9",
   "metadata": {
    "papermill": {
     "duration": 0.01072,
     "end_time": "2025-04-18T11:38:08.492078",
     "exception": false,
     "start_time": "2025-04-18T11:38:08.481358",
     "status": "completed"
    },
    "tags": []
   },
   "source": [
    "### Product Performance Evaluation"
   ]
  },
  {
   "cell_type": "code",
   "execution_count": 24,
   "id": "4b9e0cb1",
   "metadata": {
    "execution": {
     "iopub.execute_input": "2025-04-18T11:38:08.516762Z",
     "iopub.status.busy": "2025-04-18T11:38:08.515894Z",
     "iopub.status.idle": "2025-04-18T11:38:08.719579Z",
     "shell.execute_reply": "2025-04-18T11:38:08.718696Z"
    },
    "papermill": {
     "duration": 0.217832,
     "end_time": "2025-04-18T11:38:08.720998",
     "exception": false,
     "start_time": "2025-04-18T11:38:08.503166",
     "status": "completed"
    },
    "tags": []
   },
   "outputs": [
    {
     "data": {
      "text/html": [
       "<div>\n",
       "<style scoped>\n",
       "    .dataframe tbody tr th:only-of-type {\n",
       "        vertical-align: middle;\n",
       "    }\n",
       "\n",
       "    .dataframe tbody tr th {\n",
       "        vertical-align: top;\n",
       "    }\n",
       "\n",
       "    .dataframe thead th {\n",
       "        text-align: right;\n",
       "    }\n",
       "</style>\n",
       "<table border=\"1\" class=\"dataframe\">\n",
       "  <thead>\n",
       "    <tr style=\"text-align: right;\">\n",
       "      <th></th>\n",
       "      <th>total_disbursed</th>\n",
       "      <th>total_repaid</th>\n",
       "    </tr>\n",
       "  </thead>\n",
       "  <tbody>\n",
       "    <tr>\n",
       "      <th>0</th>\n",
       "      <td>845183987</td>\n",
       "      <td>3.556745e+08</td>\n",
       "    </tr>\n",
       "  </tbody>\n",
       "</table>\n",
       "</div>"
      ],
      "text/plain": [
       "   total_disbursed  total_repaid\n",
       "0        845183987  3.556745e+08"
      ]
     },
     "execution_count": 24,
     "metadata": {},
     "output_type": "execute_result"
    }
   ],
   "source": [
    "# Total disbursed vs total repaid across all customers\n",
    "totaldisbursed_vs_totalrepaid = pd.read_sql_query(\"\"\"\n",
    "SELECT \n",
    "    SUM(d.loan_amount) AS total_disbursed,\n",
    "    SUM(r.amount) AS total_repaid\n",
    "FROM disbursements d\n",
    "LEFT JOIN repayments r ON d.new_customer_id = r.new_customer_id;\"\"\",conn)\n",
    "\n",
    "totaldisbursed_vs_totalrepaid.head()"
   ]
  },
  {
   "cell_type": "markdown",
   "id": "3bbdfe4a",
   "metadata": {
    "papermill": {
     "duration": 0.011015,
     "end_time": "2025-04-18T11:38:08.743773",
     "exception": false,
     "start_time": "2025-04-18T11:38:08.732758",
     "status": "completed"
    },
    "tags": []
   },
   "source": [
    "### Loan repayment ratio (Total repaid vs disbursed)"
   ]
  },
  {
   "cell_type": "code",
   "execution_count": 25,
   "id": "1fc621bf",
   "metadata": {
    "execution": {
     "iopub.execute_input": "2025-04-18T11:38:08.768569Z",
     "iopub.status.busy": "2025-04-18T11:38:08.767665Z",
     "iopub.status.idle": "2025-04-18T11:38:08.771984Z",
     "shell.execute_reply": "2025-04-18T11:38:08.771142Z"
    },
    "papermill": {
     "duration": 0.018397,
     "end_time": "2025-04-18T11:38:08.773534",
     "exception": false,
     "start_time": "2025-04-18T11:38:08.755137",
     "status": "completed"
    },
    "tags": []
   },
   "outputs": [],
   "source": [
    "# SELECT \n",
    "#     d.customer_id,\n",
    "#     SUM(d.loan_amount) AS total_loan_amount,\n",
    "#     SUM(r.amount) AS total_repayment,\n",
    "#     (SUM(r.amount) / SUM(d.loan_amount)) AS repayment_ratio\n",
    "# FROM disbursements d\n",
    "# LEFT JOIN repayments r ON d.customer_id = r.customer_id\n",
    "# GROUP BY d.customer_id\n",
    "# HAVING repayment_ratio < 1;\n",
    "\n",
    "\n",
    "# Repayment ratio: This query calculates the repayment ratio for each customer (total repayment / total disbursed). \n",
    "# If the ratio is less than 1, it indicates that the customer has not fully repaid the loan."
   ]
  },
  {
   "cell_type": "markdown",
   "id": "918cd654",
   "metadata": {
    "papermill": {
     "duration": 0.011575,
     "end_time": "2025-04-18T11:38:08.797468",
     "exception": false,
     "start_time": "2025-04-18T11:38:08.785893",
     "status": "completed"
    },
    "tags": []
   },
   "source": [
    "### Customer Segment Analysis"
   ]
  },
  {
   "cell_type": "code",
   "execution_count": 26,
   "id": "be77ad48",
   "metadata": {
    "execution": {
     "iopub.execute_input": "2025-04-18T11:38:08.822042Z",
     "iopub.status.busy": "2025-04-18T11:38:08.821716Z",
     "iopub.status.idle": "2025-04-18T11:38:08.826176Z",
     "shell.execute_reply": "2025-04-18T11:38:08.825360Z"
    },
    "papermill": {
     "duration": 0.018563,
     "end_time": "2025-04-18T11:38:08.827794",
     "exception": false,
     "start_time": "2025-04-18T11:38:08.809231",
     "status": "completed"
    },
    "tags": []
   },
   "outputs": [],
   "source": [
    "# # Categorize customers based on loan amount and repayment status\n",
    "# SELECT \n",
    "#     d.customer_id,\n",
    "#     SUM(d.loan_amount) AS total_loan_amount,\n",
    "#     SUM(CASE WHEN r.repayment_type = 'ON_TIME' THEN 1 ELSE 0 END) AS on_time_repayments,\n",
    "#     SUM(CASE WHEN r.repayment_type = 'LATE' THEN 1 ELSE 0 END) AS late_repayments,\n",
    "#     CASE \n",
    "#         WHEN SUM(d.loan_amount) > 10000 THEN 'High Loan Amount'\n",
    "#         WHEN SUM(d.loan_amount) <= 10000 THEN 'Low Loan Amount'\n",
    "#     END AS loan_segment,\n",
    "#     CASE \n",
    "#         WHEN SUM(CASE WHEN r.repayment_type = 'LATE' THEN 1 ELSE 0 END) > 2 THEN 'High Risk'\n",
    "#         ELSE 'Low Risk'\n",
    "#     END AS risk_level\n",
    "# FROM disbursements d\n",
    "# LEFT JOIN repayments r ON d.customer_id = r.customer_id\n",
    "# GROUP BY d.customer_id;"
   ]
  },
  {
   "cell_type": "markdown",
   "id": "38d6a72c",
   "metadata": {
    "papermill": {
     "duration": 0.011684,
     "end_time": "2025-04-18T11:38:08.851574",
     "exception": false,
     "start_time": "2025-04-18T11:38:08.839890",
     "status": "completed"
    },
    "tags": []
   },
   "source": [
    "### Risk Assessment"
   ]
  },
  {
   "cell_type": "code",
   "execution_count": 27,
   "id": "74f2e868",
   "metadata": {
    "execution": {
     "iopub.execute_input": "2025-04-18T11:38:08.876186Z",
     "iopub.status.busy": "2025-04-18T11:38:08.875880Z",
     "iopub.status.idle": "2025-04-18T11:38:08.880142Z",
     "shell.execute_reply": "2025-04-18T11:38:08.879413Z"
    },
    "papermill": {
     "duration": 0.018224,
     "end_time": "2025-04-18T11:38:08.881418",
     "exception": false,
     "start_time": "2025-04-18T11:38:08.863194",
     "status": "completed"
    },
    "tags": []
   },
   "outputs": [],
   "source": [
    "# # Identify high-risk customers based on repayment patterns (late repayments)\n",
    "# SELECT \n",
    "#     d.customer_id,\n",
    "#     SUM(d.loan_amount) AS total_loan_amount,\n",
    "#     SUM(CASE WHEN r.repayment_type = 'LATE' THEN 1 ELSE 0 END) AS late_repayments,\n",
    "#     CASE \n",
    "#         WHEN SUM(CASE WHEN r.repayment_type = 'LATE' THEN 1 ELSE 0 END) > 2 THEN 'High Risk'\n",
    "#         ELSE 'Low Risk'\n",
    "#     END AS risk_level\n",
    "# FROM disbursements d\n",
    "# LEFT JOIN repayments r ON d.customer_id = r.customer_id\n",
    "# GROUP BY d.customer_id\n",
    "# HAVING risk_level = 'High Risk';\n",
    "\n",
    "\n",
    "# High-risk customers: This query identifies customers who have a high number of late repayments, marking them as high risk.\n",
    "\n",
    "# Recommended credit risk strategies: Based on the results, strategies could include offering adjusted loan terms, higher interest rates for high-risk customers, or more stringent credit checks."
   ]
  },
  {
   "cell_type": "markdown",
   "id": "4beb01a3",
   "metadata": {
    "papermill": {
     "duration": 0.011571,
     "end_time": "2025-04-18T11:38:08.904943",
     "exception": false,
     "start_time": "2025-04-18T11:38:08.893372",
     "status": "completed"
    },
    "tags": []
   },
   "source": [
    "### PREDICTIVE MODELLING"
   ]
  },
  {
   "cell_type": "code",
   "execution_count": null,
   "id": "43491f19",
   "metadata": {
    "papermill": {
     "duration": 0.013159,
     "end_time": "2025-04-18T11:38:08.930010",
     "exception": false,
     "start_time": "2025-04-18T11:38:08.916851",
     "status": "completed"
    },
    "tags": []
   },
   "outputs": [],
   "source": []
  },
  {
   "cell_type": "code",
   "execution_count": null,
   "id": "a5a389c9",
   "metadata": {
    "papermill": {
     "duration": 0.011716,
     "end_time": "2025-04-18T11:38:08.953735",
     "exception": false,
     "start_time": "2025-04-18T11:38:08.942019",
     "status": "completed"
    },
    "tags": []
   },
   "outputs": [],
   "source": []
  },
  {
   "cell_type": "markdown",
   "id": "ea3e7124",
   "metadata": {
    "papermill": {
     "duration": 0.01188,
     "end_time": "2025-04-18T11:38:08.977762",
     "exception": false,
     "start_time": "2025-04-18T11:38:08.965882",
     "status": "completed"
    },
    "tags": []
   },
   "source": [
    "### Actionable Recommendations\n",
    "\n",
    "#### **Loan Product Performance**\n",
    "- **Recommendation**: Provide strategies to improve repayment rates and product profitability.\n",
    "\n",
    "#### **Credit Risk Mitigation**\n",
    "- **Recommendation**: Suggest strategies for mitigating credit risk based on repayment behavior.\n",
    "\n",
    "#### **Customer Segmentation and Targeted Strategies**\n",
    "- **Recommendation**: Propose tailored strategies for different customer segments (e.g., high-risk customers, large-loan customers).\n",
    "\n",
    "#### **Optimization of Loan Fees**\n",
    "- **Recommendation**: Analyze and recommend adjustments to loan fees to improve profitability without discouraging repayments.\n",
    "\n",
    "### **Conclusion**\n",
    "- **Summary**: Summarize the insights and key findings from the analysis and present actionable recommendations to the leadership team."
   ]
  },
  {
   "cell_type": "code",
   "execution_count": 28,
   "id": "bd0f47f2",
   "metadata": {
    "execution": {
     "iopub.execute_input": "2025-04-18T11:38:09.003851Z",
     "iopub.status.busy": "2025-04-18T11:38:09.003520Z",
     "iopub.status.idle": "2025-04-18T11:38:09.007749Z",
     "shell.execute_reply": "2025-04-18T11:38:09.006927Z"
    },
    "papermill": {
     "duration": 0.01955,
     "end_time": "2025-04-18T11:38:09.009279",
     "exception": false,
     "start_time": "2025-04-18T11:38:08.989729",
     "status": "completed"
    },
    "tags": []
   },
   "outputs": [],
   "source": [
    "# # Save the cleaned excel files as csv\n"
   ]
  },
  {
   "cell_type": "code",
   "execution_count": 29,
   "id": "8629f6c2",
   "metadata": {
    "execution": {
     "iopub.execute_input": "2025-04-18T11:38:09.035353Z",
     "iopub.status.busy": "2025-04-18T11:38:09.035041Z",
     "iopub.status.idle": "2025-04-18T11:38:09.039074Z",
     "shell.execute_reply": "2025-04-18T11:38:09.038188Z"
    },
    "papermill": {
     "duration": 0.018701,
     "end_time": "2025-04-18T11:38:09.040596",
     "exception": false,
     "start_time": "2025-04-18T11:38:09.021895",
     "status": "completed"
    },
    "tags": []
   },
   "outputs": [],
   "source": [
    "# # Close the connection\n",
    "# conn.commit()  # Save changes (if any)\n",
    "# conn.close()"
   ]
  }
 ],
 "metadata": {
  "kaggle": {
   "accelerator": "none",
   "dataSources": [
    {
     "datasetId": 7181286,
     "sourceId": 11460679,
     "sourceType": "datasetVersion"
    }
   ],
   "dockerImageVersionId": 31012,
   "isGpuEnabled": false,
   "isInternetEnabled": true,
   "language": "python",
   "sourceType": "notebook"
  },
  "kernelspec": {
   "display_name": "Python 3",
   "language": "python",
   "name": "python3"
  },
  "language_info": {
   "codemirror_mode": {
    "name": "ipython",
    "version": 3
   },
   "file_extension": ".py",
   "mimetype": "text/x-python",
   "name": "python",
   "nbconvert_exporter": "python",
   "pygments_lexer": "ipython3",
   "version": "3.11.11"
  },
  "papermill": {
   "default_parameters": {},
   "duration": 24.463208,
   "end_time": "2025-04-18T11:38:09.975930",
   "environment_variables": {},
   "exception": null,
   "input_path": "__notebook__.ipynb",
   "output_path": "__notebook__.ipynb",
   "parameters": {},
   "start_time": "2025-04-18T11:37:45.512722",
   "version": "2.6.0"
  }
 },
 "nbformat": 4,
 "nbformat_minor": 5
}
